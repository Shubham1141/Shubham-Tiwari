{
  "nbformat": 4,
  "nbformat_minor": 0,
  "metadata": {
    "colab": {
      "name": "Day 2 Assignment.ipynb",
      "provenance": [],
      "authorship_tag": "ABX9TyO6BIACCyjX0wUijVS51P53",
      "include_colab_link": true
    },
    "kernelspec": {
      "name": "python3",
      "display_name": "Python 3"
    }
  },
  "cells": [
    {
      "cell_type": "markdown",
      "metadata": {
        "id": "view-in-github",
        "colab_type": "text"
      },
      "source": [
        "<a href=\"https://colab.research.google.com/github/Shubham1141/Shubham-Tiwari/blob/master/Day_2_Assignment.ipynb\" target=\"_parent\"><img src=\"https://colab.research.google.com/assets/colab-badge.svg\" alt=\"Open In Colab\"/></a>"
      ]
    },
    {
      "cell_type": "markdown",
      "metadata": {
        "id": "6xa_1JrJzLVU",
        "colab_type": "text"
      },
      "source": [
        " Question 1"
      ]
    },
    {
      "cell_type": "code",
      "metadata": {
        "id": "1EM1Ztd-VkEK",
        "colab_type": "code",
        "colab": {}
      },
      "source": [
        " lst = [\"Subham\", 10, 7186, 126.43, [1,2,3]]"
      ],
      "execution_count": null,
      "outputs": []
    },
    {
      "cell_type": "code",
      "metadata": {
        "id": "3N7XWSgWWAh6",
        "colab_type": "code",
        "colab": {}
      },
      "source": [
        "lst"
      ],
      "execution_count": null,
      "outputs": []
    },
    {
      "cell_type": "code",
      "metadata": {
        "id": "3hQW3V3n0ZMb",
        "colab_type": "code",
        "colab": {}
      },
      "source": [
        "lst.append(\"ant\")"
      ],
      "execution_count": null,
      "outputs": []
    },
    {
      "cell_type": "code",
      "metadata": {
        "id": "ZnHEj1QS19BK",
        "colab_type": "code",
        "colab": {}
      },
      "source": [
        "lst.extend([\"Subham\",\"7186\"])"
      ],
      "execution_count": null,
      "outputs": []
    },
    {
      "cell_type": "code",
      "metadata": {
        "id": "w8WDrjhB2rcU",
        "colab_type": "code",
        "colab": {}
      },
      "source": [
        "lst.insert(0,\"ant\")"
      ],
      "execution_count": null,
      "outputs": []
    },
    {
      "cell_type": "code",
      "metadata": {
        "id": "C3Wz3eDjCZUR",
        "colab_type": "code",
        "colab": {}
      },
      "source": [
        "lst.remove(\"126.43\")"
      ],
      "execution_count": null,
      "outputs": []
    },
    {
      "cell_type": "code",
      "metadata": {
        "id": "qcbaz2VDG2PA",
        "colab_type": "code",
        "colab": {}
      },
      "source": [
        "lst.pop(\"1\")"
      ],
      "execution_count": null,
      "outputs": []
    },
    {
      "cell_type": "markdown",
      "metadata": {
        "id": "L8a_SdxyHqMX",
        "colab_type": "text"
      },
      "source": [
        "Question 2"
      ]
    },
    {
      "cell_type": "code",
      "metadata": {
        "id": "0XF-HqayJLof",
        "colab_type": "code",
        "colab": {}
      },
      "source": [
        " dit = {\"name\":\"Subham\", \"age\":\"16\",\n",
        "       \"number\":654321,\"email\":\"student@letsupgrade.in}"
      ],
      "execution_count": null,
      "outputs": []
    },
    {
      "cell_type": "code",
      "metadata": {
        "id": "AhejQDSDKLBT",
        "colab_type": "code",
        "colab": {
          "base_uri": "https://localhost:8080/",
          "height": 87
        },
        "outputId": "9cf889f0-9574-40ce-eaca-098be382db7e"
      },
      "source": [
        " dit"
      ],
      "execution_count": 72,
      "outputs": [
        {
          "output_type": "execute_result",
          "data": {
            "text/plain": [
              "{'School': 'Mus',\n",
              " 'age': '16',\n",
              " 'email': 'student@letsupgrade.in',\n",
              " 'number': 654321}"
            ]
          },
          "metadata": {
            "tags": []
          },
          "execution_count": 72
        }
      ]
    },
    {
      "cell_type": "code",
      "metadata": {
        "id": "My566rW5KEiC",
        "colab_type": "code",
        "colab": {}
      },
      "source": [
        " dit.get('name')"
      ],
      "execution_count": 46,
      "outputs": []
    },
    {
      "cell_type": "code",
      "metadata": {
        "id": "yHutFDCzKJNH",
        "colab_type": "code",
        "colab": {}
      },
      "source": [
        " dit.items()"
      ],
      "execution_count": null,
      "outputs": []
    },
    {
      "cell_type": "code",
      "metadata": {
        "id": "O8I7sSABKdEx",
        "colab_type": "code",
        "colab": {
          "base_uri": "https://localhost:8080/",
          "height": 55
        },
        "outputId": "b80a9405-f724-46fc-d682-bf2910da72b7"
      },
      "source": [
        "dit.keys()"
      ],
      "execution_count": 73,
      "outputs": [
        {
          "output_type": "execute_result",
          "data": {
            "text/plain": [
              "dict_keys(['age', 'number', 'email', 'School'])"
            ]
          },
          "metadata": {
            "tags": []
          },
          "execution_count": 73
        }
      ]
    },
    {
      "cell_type": "code",
      "metadata": {
        "id": "2RbOhiQlLK-T",
        "colab_type": "code",
        "colab": {}
      },
      "source": [
        " dit[\"School\"] = \"Mus\""
      ],
      "execution_count": 53,
      "outputs": []
    },
    {
      "cell_type": "markdown",
      "metadata": {
        "id": "9qSbUTvxLRBi",
        "colab_type": "text"
      },
      "source": [
        "Question 3"
      ]
    },
    {
      "cell_type": "code",
      "metadata": {
        "id": "6Va3q1mTM5tP",
        "colab_type": "code",
        "colab": {}
      },
      "source": [
        "st = {\"Subham\",\"Mus\",1,2,3,4,4,5,6,5,5}"
      ],
      "execution_count": 66,
      "outputs": []
    },
    {
      "cell_type": "code",
      "metadata": {
        "id": "o1PUMTZiM_C3",
        "colab_type": "code",
        "colab": {}
      },
      "source": [
        " st.add(2)"
      ],
      "execution_count": 76,
      "outputs": []
    },
    {
      "cell_type": "code",
      "metadata": {
        "id": "oj4Le_e8NQPb",
        "colab_type": "code",
        "colab": {}
      },
      "source": [
        " st.update([7, 8, 9])"
      ],
      "execution_count": 77,
      "outputs": []
    },
    {
      "cell_type": "code",
      "metadata": {
        "id": "whQnj8_aNp3h",
        "colab_type": "code",
        "colab": {}
      },
      "source": [
        " st.discard(4)"
      ],
      "execution_count": 80,
      "outputs": []
    },
    {
      "cell_type": "code",
      "metadata": {
        "id": "S6VM5h4NPQ8F",
        "colab_type": "code",
        "colab": {}
      },
      "source": [
        " st.remove(6)"
      ],
      "execution_count": 81,
      "outputs": []
    },
    {
      "cell_type": "code",
      "metadata": {
        "id": "aA3Mf4MXPxdt",
        "colab_type": "code",
        "colab": {}
      },
      "source": [
        " st1 = {\"Subham\",1}"
      ],
      "execution_count": 84,
      "outputs": []
    },
    {
      "cell_type": "code",
      "metadata": {
        "id": "sgjh4aPFQAz5",
        "colab_type": "code",
        "colab": {
          "base_uri": "https://localhost:8080/",
          "height": 35
        },
        "outputId": "059500e8-38b9-402a-cf3f-0ace67dd2aba"
      },
      "source": [
        " st1.issubset(st)"
      ],
      "execution_count": 85,
      "outputs": [
        {
          "output_type": "execute_result",
          "data": {
            "text/plain": [
              "True"
            ]
          },
          "metadata": {
            "tags": []
          },
          "execution_count": 85
        }
      ]
    },
    {
      "cell_type": "markdown",
      "metadata": {
        "id": "CuZ_xuXoQQpK",
        "colab_type": "text"
      },
      "source": [
        "Question 4"
      ]
    },
    {
      "cell_type": "code",
      "metadata": {
        "id": "YHfuO5l3QTMK",
        "colab_type": "code",
        "colab": {}
      },
      "source": [
        " tup = (\"Subham\",\"@\",\"Mus\")"
      ],
      "execution_count": 86,
      "outputs": []
    },
    {
      "cell_type": "code",
      "metadata": {
        "id": "qH61fw9MQdpT",
        "colab_type": "code",
        "colab": {}
      },
      "source": [
        " tup"
      ],
      "execution_count": null,
      "outputs": []
    },
    {
      "cell_type": "code",
      "metadata": {
        "id": "YJRR1pQEQmVU",
        "colab_type": "code",
        "colab": {}
      },
      "source": [
        " tup.count(\"@\")"
      ],
      "execution_count": null,
      "outputs": []
    },
    {
      "cell_type": "code",
      "metadata": {
        "id": "1tb3Pp_mQtth",
        "colab_type": "code",
        "colab": {}
      },
      "source": [
        " tup[-1]"
      ],
      "execution_count": null,
      "outputs": []
    },
    {
      "cell_type": "code",
      "metadata": {
        "id": "67GsOHH6QqIV",
        "colab_type": "code",
        "colab": {}
      },
      "source": [
        " tup.index(\"Mus\")"
      ],
      "execution_count": null,
      "outputs": []
    },
    {
      "cell_type": "code",
      "metadata": {
        "id": "Dg1-I-reRq5W",
        "colab_type": "code",
        "colab": {}
      },
      "source": [
        " tup[1:4]"
      ],
      "execution_count": null,
      "outputs": []
    },
    {
      "cell_type": "markdown",
      "metadata": {
        "id": "ealOlUYlSfUn",
        "colab_type": "text"
      },
      "source": [
        "Question 5"
      ]
    },
    {
      "cell_type": "code",
      "metadata": {
        "id": "B8YuXxLJSjPQ",
        "colab_type": "code",
        "colab": {}
      },
      "source": [
        "name = \"Subham Tiwari\"\n",
        "name1 = \"is a great\""
      ],
      "execution_count": 97,
      "outputs": []
    },
    {
      "cell_type": "code",
      "metadata": {
        "id": "MXEnaP5lTAMT",
        "colab_type": "code",
        "colab": {}
      },
      "source": [
        "name1"
      ],
      "execution_count": null,
      "outputs": []
    },
    {
      "cell_type": "code",
      "metadata": {
        "id": "HtIjZIBMTI_e",
        "colab_type": "code",
        "colab": {}
      },
      "source": [
        " name + \" space \" +name1"
      ],
      "execution_count": null,
      "outputs": []
    },
    {
      "cell_type": "code",
      "metadata": {
        "id": "89kWC60QTOS2",
        "colab_type": "code",
        "colab": {}
      },
      "source": [
        " type(name)"
      ],
      "execution_count": null,
      "outputs": []
    },
    {
      "cell_type": "code",
      "metadata": {
        "id": "xHoqw9RtT5zP",
        "colab_type": "code",
        "colab": {}
      },
      "source": [
        "  'name* 3 =', name * 3"
      ],
      "execution_count": null,
      "outputs": []
    },
    {
      "cell_type": "code",
      "metadata": {
        "id": "gGkwXJmlU1li",
        "colab_type": "code",
        "colab": {
          "base_uri": "https://localhost:8080/",
          "height": 35
        },
        "outputId": "fd8c624c-095b-4c72-df00-b152e3eb51d2"
      },
      "source": [
        " count = 0\n",
        "for letter in 'Subham':\n",
        "    if(letter == 'l'):\n",
        "        count += 1\n",
        "print(count,'letters found')"
      ],
      "execution_count": 108,
      "outputs": [
        {
          "output_type": "stream",
          "text": [
            "0 letters found\n"
          ],
          "name": "stdout"
        }
      ]
    }
  ]
}